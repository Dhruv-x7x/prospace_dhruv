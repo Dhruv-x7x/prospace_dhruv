{
  "nbformat": 4,
  "nbformat_minor": 0,
  "metadata": {
    "colab": {
      "provenance": [],
      "authorship_tag": "ABX9TyNbW1wPDrMbdXQX+O3D7x87",
      "include_colab_link": true
    },
    "kernelspec": {
      "name": "python3",
      "display_name": "Python 3"
    },
    "language_info": {
      "name": "python"
    }
  },
  "cells": [
    {
      "cell_type": "markdown",
      "metadata": {
        "id": "view-in-github",
        "colab_type": "text"
      },
      "source": [
        "<a href=\"https://colab.research.google.com/github/Dhruv-x7x/prospace_dhruv/blob/main/script.ipynb\" target=\"_parent\"><img src=\"https://colab.research.google.com/assets/colab-badge.svg\" alt=\"Open In Colab\"/></a>"
      ]
    },
    {
      "cell_type": "code",
      "source": [
        "import pandas as pd"
      ],
      "metadata": {
        "id": "a7QhzWr44P_I"
      },
      "execution_count": 1,
      "outputs": []
    },
    {
      "cell_type": "code",
      "source": [
        "pip install ntscraper"
      ],
      "metadata": {
        "id": "tXS09-yy4e0r"
      },
      "execution_count": null,
      "outputs": []
    },
    {
      "cell_type": "code",
      "source": [
        "from ntscraper import Nitter"
      ],
      "metadata": {
        "id": "T6LOG4nw6L0l"
      },
      "execution_count": 3,
      "outputs": []
    },
    {
      "cell_type": "code",
      "source": [
        "scraper = Nitter()"
      ],
      "metadata": {
        "id": "NiuXsNpk6Q4t"
      },
      "execution_count": null,
      "outputs": []
    },
    {
      "cell_type": "code",
      "source": [
        "tweets = scraper.get_tweets('coding', mode='hashtag', number=100)"
      ],
      "metadata": {
        "id": "Y8up0C2F6Xye"
      },
      "execution_count": null,
      "outputs": []
    },
    {
      "cell_type": "code",
      "source": [
        "in_tweets=[]\n",
        "for tweet in tweets['tweets']:\n",
        "  data = [tweet['text'], tweet['stats']['likes'], tweet['user']['username']]\n",
        "  in_tweets.append(data)\n"
      ],
      "metadata": {
        "id": "IedTdLfKQRsA"
      },
      "execution_count": 18,
      "outputs": []
    },
    {
      "cell_type": "code",
      "source": [
        "data = pd.DataFrame(in_tweets, columns=['Content', 'Likes', 'Handle'])"
      ],
      "metadata": {
        "id": "DSrovxJZ9iWq"
      },
      "execution_count": 19,
      "outputs": []
    },
    {
      "cell_type": "code",
      "source": [
        "data.to_csv('tweets.csv')"
      ],
      "metadata": {
        "id": "8C7ZnK1y-OKS"
      },
      "execution_count": 20,
      "outputs": []
    }
  ]
}