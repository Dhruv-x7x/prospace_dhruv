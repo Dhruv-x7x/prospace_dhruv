{
  "nbformat": 4,
  "nbformat_minor": 0,
  "metadata": {
    "colab": {
      "provenance": []
    },
    "kernelspec": {
      "name": "python3",
      "display_name": "Python 3"
    },
    "language_info": {
      "name": "python"
    }
  },
  "cells": [
    {
      "cell_type": "code",
      "source": [
        "import pandas as pd"
      ],
      "metadata": {
        "id": "a7QhzWr44P_I"
      },
      "execution_count": 1,
      "outputs": []
    },
    {
      "cell_type": "code",
      "source": [
        "pip install ntscraper"
      ],
      "metadata": {
        "colab": {
          "base_uri": "https://localhost:8080/"
        },
        "id": "tXS09-yy4e0r",
        "outputId": "c01b9ab6-5c64-4ef7-e602-628915e1a75b"
      },
      "execution_count": 2,
      "outputs": [
        {
          "output_type": "stream",
          "name": "stdout",
          "text": [
            "Collecting ntscraper\n",
            "  Downloading ntscraper-0.3.12-py3-none-any.whl (11 kB)\n",
            "Requirement already satisfied: requests in /usr/local/lib/python3.10/dist-packages (from ntscraper) (2.31.0)\n",
            "Requirement already satisfied: beautifulsoup4 in /usr/local/lib/python3.10/dist-packages (from ntscraper) (4.12.3)\n",
            "Requirement already satisfied: lxml in /usr/local/lib/python3.10/dist-packages (from ntscraper) (4.9.4)\n",
            "Requirement already satisfied: soupsieve>1.2 in /usr/local/lib/python3.10/dist-packages (from beautifulsoup4->ntscraper) (2.5)\n",
            "Requirement already satisfied: charset-normalizer<4,>=2 in /usr/local/lib/python3.10/dist-packages (from requests->ntscraper) (3.3.2)\n",
            "Requirement already satisfied: idna<4,>=2.5 in /usr/local/lib/python3.10/dist-packages (from requests->ntscraper) (3.6)\n",
            "Requirement already satisfied: urllib3<3,>=1.21.1 in /usr/local/lib/python3.10/dist-packages (from requests->ntscraper) (2.0.7)\n",
            "Requirement already satisfied: certifi>=2017.4.17 in /usr/local/lib/python3.10/dist-packages (from requests->ntscraper) (2024.2.2)\n",
            "Installing collected packages: ntscraper\n",
            "Successfully installed ntscraper-0.3.12\n"
          ]
        }
      ]
    },
    {
      "cell_type": "code",
      "source": [
        "from ntscraper import Nitter"
      ],
      "metadata": {
        "id": "T6LOG4nw6L0l"
      },
      "execution_count": 3,
      "outputs": []
    },
    {
      "cell_type": "code",
      "source": [
        "scraper = Nitter()"
      ],
      "metadata": {
        "colab": {
          "base_uri": "https://localhost:8080/"
        },
        "id": "NiuXsNpk6Q4t",
        "outputId": "bbe09122-ce81-4c65-83f8-1af0f20d0f19"
      },
      "execution_count": 4,
      "outputs": [
        {
          "output_type": "stream",
          "name": "stderr",
          "text": [
            "Testing instances: 100%|██████████| 77/77 [01:36<00:00,  1.26s/it]\n"
          ]
        }
      ]
    },
    {
      "cell_type": "code",
      "source": [
        "tweets = scraper.get_tweets('coding', mode='hashtag', number=100)"
      ],
      "metadata": {
        "colab": {
          "base_uri": "https://localhost:8080/"
        },
        "id": "Y8up0C2F6Xye",
        "outputId": "e324da08-d672-4d4e-d60e-256d006ddb97"
      },
      "execution_count": 17,
      "outputs": [
        {
          "output_type": "stream",
          "name": "stderr",
          "text": [
            "INFO:root:No instance specified, using random instance https://nitter.poast.org\n",
            "INFO:root:Current stats for coding: 10 tweets, 0 threads...\n",
            "INFO:root:Current stats for coding: 21 tweets, 0 threads...\n",
            "INFO:root:Current stats for coding: 35 tweets, 0 threads...\n",
            "INFO:root:Current stats for coding: 43 tweets, 0 threads...\n",
            "INFO:root:Current stats for coding: 56 tweets, 0 threads...\n",
            "INFO:root:Current stats for coding: 68 tweets, 0 threads...\n",
            "INFO:root:Current stats for coding: 81 tweets, 0 threads...\n",
            "INFO:root:Current stats for coding: 95 tweets, 0 threads...\n",
            "INFO:root:Current stats for coding: 100 tweets, 0 threads...\n"
          ]
        }
      ]
    },
    {
      "cell_type": "code",
      "source": [
        "in_tweets=[]\n",
        "for tweet in tweets['tweets']:\n",
        "  data = [tweet['text'], tweet['stats']['likes'], tweet['user']['username']]\n",
        "  in_tweets.append(data)\n"
      ],
      "metadata": {
        "id": "IedTdLfKQRsA"
      },
      "execution_count": 18,
      "outputs": []
    },
    {
      "cell_type": "code",
      "source": [
        "data = pd.DataFrame(in_tweets, columns=['Content', 'Likes', 'Handle'])"
      ],
      "metadata": {
        "id": "DSrovxJZ9iWq"
      },
      "execution_count": 19,
      "outputs": []
    },
    {
      "cell_type": "code",
      "source": [
        "data.to_csv('tweets.csv')"
      ],
      "metadata": {
        "id": "8C7ZnK1y-OKS"
      },
      "execution_count": 20,
      "outputs": []
    },
    {
      "cell_type": "code",
      "source": [],
      "metadata": {
        "id": "q53BbypM-ONX"
      },
      "execution_count": null,
      "outputs": []
    }
  ]
}